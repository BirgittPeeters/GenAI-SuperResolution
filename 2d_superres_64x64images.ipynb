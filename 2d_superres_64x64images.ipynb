{
  "nbformat": 4,
  "nbformat_minor": 0,
  "metadata": {
    "colab": {
      "provenance": [],
      "gpuType": "T4"
    },
    "kernelspec": {
      "name": "python3",
      "display_name": "Python 3"
    },
    "language_info": {
      "name": "python"
    },
    "accelerator": "GPU"
  },
  "cells": [
    {
      "cell_type": "code",
      "execution_count": 1,
      "metadata": {
        "colab": {
          "base_uri": "https://localhost:8080/"
        },
        "id": "xy5Q1IV38T9h",
        "outputId": "2cd99ef9-0c87-4ab6-bb55-e75a9ed612de"
      },
      "outputs": [
        {
          "output_type": "stream",
          "name": "stdout",
          "text": [
            "Traceback (most recent call last):\n",
            "  File \"<string>\", line 1, in <module>\n",
            "ModuleNotFoundError: No module named 'monai'\n",
            "\u001b[2K     \u001b[90m━━━━━━━━━━━━━━━━━━━━━━━━━━━━━━━━━━━━━━━━\u001b[0m \u001b[32m1.4/1.4 MB\u001b[0m \u001b[31m14.6 MB/s\u001b[0m eta \u001b[36m0:00:00\u001b[0m\n",
            "\u001b[?25hTraceback (most recent call last):\n",
            "  File \"<string>\", line 1, in <module>\n",
            "ModuleNotFoundError: No module named 'generative'\n",
            "\u001b[2K     \u001b[90m━━━━━━━━━━━━━━━━━━━━━━━━━━━━━━━━━━━━━━━━\u001b[0m \u001b[32m140.3/140.3 kB\u001b[0m \u001b[31m840.2 kB/s\u001b[0m eta \u001b[36m0:00:00\u001b[0m\n",
            "\u001b[2K     \u001b[90m━━━━━━━━━━━━━━━━━━━━━━━━━━━━━━━━━━━━━━━━\u001b[0m \u001b[32m1.3/1.3 MB\u001b[0m \u001b[31m18.9 MB/s\u001b[0m eta \u001b[36m0:00:00\u001b[0m\n",
            "\u001b[?25hTraceback (most recent call last):\n",
            "  File \"<string>\", line 1, in <module>\n",
            "ModuleNotFoundError: No module named 'lpips'\n",
            "\u001b[2K     \u001b[90m━━━━━━━━━━━━━━━━━━━━━━━━━━━━━━━━━━━━━━━━\u001b[0m \u001b[32m53.8/53.8 kB\u001b[0m \u001b[31m2.3 MB/s\u001b[0m eta \u001b[36m0:00:00\u001b[0m\n",
            "\u001b[?25hTraceback (most recent call last):\n",
            "  File \"<string>\", line 1, in <module>\n",
            "ModuleNotFoundError: No module named 'pydicom'\n",
            "\u001b[2K     \u001b[90m━━━━━━━━━━━━━━━━━━━━━━━━━━━━━━━━━━━━━━━━\u001b[0m \u001b[32m1.8/1.8 MB\u001b[0m \u001b[31m27.4 MB/s\u001b[0m eta \u001b[36m0:00:00\u001b[0m\n",
            "\u001b[?25h"
          ]
        }
      ],
      "source": [
        "!python -c \"import monai\" || pip install -q \"monai-weekly[tqdm]\"\n",
        "!python -c \"import generative\" || pip install -q monai-generative\n",
        "!python -c \"import lpips\" || pip install -q lpips\n",
        "!python -c \"import pydicom\" || pip install -q pydicom\n",
        "!python -c \"import matplotlib\" || pip install -q matplotlib\n",
        "%matplotlib inline"
      ]
    },
    {
      "cell_type": "code",
      "source": [
        "import os\n",
        "import shutil\n",
        "import tempfile\n",
        "import subprocess\n",
        "import random\n",
        "\n",
        "import matplotlib.pyplot as plt\n",
        "import numpy as np\n",
        "import torch\n",
        "import torch.nn.functional as F\n",
        "from monai import transforms\n",
        "from monai.apps import MedNISTDataset\n",
        "from monai.config import print_config\n",
        "from monai.data import CacheDataset, DataLoader, Dataset\n",
        "from monai.utils import first, set_determinism\n",
        "from torch import nn\n",
        "from torch.cuda.amp import GradScaler, autocast\n",
        "from tqdm import tqdm\n",
        "\n",
        "from generative.losses import PatchAdversarialLoss, PerceptualLoss\n",
        "from generative.networks.nets import AutoencoderKL, DiffusionModelUNet, PatchDiscriminator\n",
        "from generative.networks.schedulers import DDPMScheduler\n",
        "\n",
        "print_config()"
      ],
      "metadata": {
        "colab": {
          "base_uri": "https://localhost:8080/"
        },
        "id": "uYsYFIrF81cw",
        "outputId": "94526d3a-70f7-41d8-a1ea-787202102b54"
      },
      "execution_count": 2,
      "outputs": [
        {
          "output_type": "stream",
          "name": "stdout",
          "text": [
            "MONAI version: 1.3.0\n",
            "Numpy version: 1.23.5\n",
            "Pytorch version: 2.1.0+cu121\n",
            "MONAI flags: HAS_EXT = False, USE_COMPILED = False, USE_META_DICT = False\n",
            "MONAI rev id: 865972f7a791bf7b42efbcd87c8402bd865b329e\n",
            "MONAI __file__: /usr/local/lib/python3.10/dist-packages/monai/__init__.py\n",
            "\n",
            "Optional dependencies:\n",
            "Pytorch Ignite version: NOT INSTALLED or UNKNOWN VERSION.\n",
            "ITK version: NOT INSTALLED or UNKNOWN VERSION.\n",
            "Nibabel version: 4.0.2\n",
            "scikit-image version: 0.19.3\n",
            "scipy version: 1.11.4\n",
            "Pillow version: 9.4.0\n",
            "Tensorboard version: 2.15.1\n",
            "gdown version: 4.7.3\n",
            "TorchVision version: 0.16.0+cu121\n",
            "tqdm version: 4.66.1\n",
            "lmdb version: NOT INSTALLED or UNKNOWN VERSION.\n",
            "psutil version: 5.9.5\n",
            "pandas version: 1.5.3\n",
            "einops version: NOT INSTALLED or UNKNOWN VERSION.\n",
            "transformers version: 4.35.2\n",
            "mlflow version: NOT INSTALLED or UNKNOWN VERSION.\n",
            "pynrrd version: NOT INSTALLED or UNKNOWN VERSION.\n",
            "clearml version: NOT INSTALLED or UNKNOWN VERSION.\n",
            "\n",
            "For details about installing the optional dependencies, please visit:\n",
            "    https://docs.monai.io/en/latest/installation.html#installing-the-recommended-dependencies\n",
            "\n"
          ]
        }
      ]
    },
    {
      "cell_type": "code",
      "source": [
        "directory = os.environ.get(\"MONAI_DATA_DIRECTORY\")\n",
        "root_dir = tempfile.mkdtemp() if directory is None else directory\n",
        "print(root_dir)"
      ],
      "metadata": {
        "colab": {
          "base_uri": "https://localhost:8080/"
        },
        "id": "4lbt9rxY-RDh",
        "outputId": "b240fcae-feea-498f-9398-f30cc119d60c"
      },
      "execution_count": 3,
      "outputs": [
        {
          "output_type": "stream",
          "name": "stdout",
          "text": [
            "/tmp/tmpr6c94pdo\n"
          ]
        }
      ]
    },
    {
      "cell_type": "code",
      "source": [
        "!pip install --quiet idc-index\n",
        "import pydicom\n",
        "import subprocess\n",
        "import random\n",
        "from pydicom.pixel_data_handlers.util import apply_voi_lut\n",
        "from idc_index import index"
      ],
      "metadata": {
        "colab": {
          "base_uri": "https://localhost:8080/"
        },
        "id": "YWaNSpcL-X1i",
        "outputId": "0a846467-cc37-47cd-828e-41b61331f076"
      },
      "execution_count": 4,
      "outputs": [
        {
          "output_type": "stream",
          "name": "stdout",
          "text": [
            "  Preparing metadata (setup.py) ... \u001b[?25l\u001b[?25hdone\n",
            "  Building wheel for idc-index (setup.py) ... \u001b[?25l\u001b[?25hdone\n"
          ]
        }
      ]
    },
    {
      "cell_type": "code",
      "source": [
        "# IDC data download script\n",
        "collection_id = \"cmb_lca\"  # Replace with the actual collection ID\n",
        "client = index.IDCClient()\n",
        "query = f\"\"\"\n",
        "SELECT\n",
        "  series_aws_url\n",
        "FROM\n",
        "  index\n",
        "WHERE\n",
        "  Modality = 'MR'\n",
        "  AND collection_id = '{collection_id}'\n",
        "\"\"\"\n",
        "result = client.sql_query(query)"
      ],
      "metadata": {
        "id": "q82HLpRl-pJI"
      },
      "execution_count": 5,
      "outputs": []
    },
    {
      "cell_type": "code",
      "source": [
        "# Extract S3 URLs\n",
        "s3_urls = result.series_aws_url.tolist()\n",
        "\n"
      ],
      "metadata": {
        "id": "uAs1T22R-tBY"
      },
      "execution_count": 6,
      "outputs": []
    },
    {
      "cell_type": "code",
      "source": [
        "# Randomly select a subset for training and validation\n",
        "random.seed(42)  # Set a seed for reproducibility\n",
        "random.shuffle(s3_urls)\n",
        "\n",
        "train_size = 40\n",
        "validation_size = 30"
      ],
      "metadata": {
        "id": "ai71dTAl-t5r"
      },
      "execution_count": 7,
      "outputs": []
    },
    {
      "cell_type": "code",
      "source": [
        "train_urls = s3_urls[:train_size]\n",
        "validation_urls = s3_urls[train_size:train_size + validation_size]"
      ],
      "metadata": {
        "id": "7imcgae6-zk4"
      },
      "execution_count": 8,
      "outputs": []
    },
    {
      "cell_type": "code",
      "source": [
        "# Download DICOM files for training set\n",
        "train_download_dir = os.path.join(root_dir, \"MR_DICOM\", \"train\")\n",
        "os.makedirs(train_download_dir, exist_ok=True)"
      ],
      "metadata": {
        "id": "Y2rnrjZG-0P5"
      },
      "execution_count": 9,
      "outputs": []
    },
    {
      "cell_type": "code",
      "source": [
        "for s3_url in tqdm(train_urls, desc=\"Downloading DICOM files for training set\"):\n",
        "    result = subprocess.run([client.s5cmdPath, '--no-sign-request', 'cp', s3_url, train_download_dir], stdout=subprocess.PIPE)\n",
        "    output = result.stdout.decode('utf-8')"
      ],
      "metadata": {
        "colab": {
          "base_uri": "https://localhost:8080/"
        },
        "id": "_SOISkR0-5hZ",
        "outputId": "fb0746af-5e69-4db3-8566-bf7923785a47"
      },
      "execution_count": 10,
      "outputs": [
        {
          "output_type": "stream",
          "name": "stderr",
          "text": [
            "Downloading DICOM files for training set: 100%|██████████| 40/40 [03:22<00:00,  5.05s/it]\n"
          ]
        }
      ]
    },
    {
      "cell_type": "code",
      "source": [
        "# Download DICOM files for validation set\n",
        "validation_download_dir = os.path.join(root_dir, \"MR_DICOM\", \"validation\")\n",
        "os.makedirs(validation_download_dir, exist_ok=True)"
      ],
      "metadata": {
        "id": "z0ixDD9d_CnY"
      },
      "execution_count": 11,
      "outputs": []
    },
    {
      "cell_type": "code",
      "source": [
        "for s3_url in tqdm(validation_urls, desc=\"Downloading DICOM files for validation set\"):\n",
        "    result = subprocess.run([client.s5cmdPath, '--no-sign-request', 'cp', s3_url, validation_download_dir], stdout=subprocess.PIPE)\n",
        "    output = result.stdout.decode('utf-8')"
      ],
      "metadata": {
        "colab": {
          "base_uri": "https://localhost:8080/"
        },
        "id": "OxlVJRsI_DLJ",
        "outputId": "f0145497-118d-4e5a-de3c-ca518e959276"
      },
      "execution_count": 12,
      "outputs": [
        {
          "output_type": "stream",
          "name": "stderr",
          "text": [
            "Downloading DICOM files for validation set: 100%|██████████| 27/27 [02:20<00:00,  5.20s/it]\n"
          ]
        }
      ]
    },
    {
      "cell_type": "code",
      "source": [
        "# Custom DICOM Dataset class\n",
        "class CustomDICOMDataset:\n",
        "    def __init__(self, root_dir, spatial_size=(64, 64)):\n",
        "        self.root_dir = root_dir\n",
        "        self.class_names = self._find_classes()\n",
        "        self.spatial_size = spatial_size\n",
        "        self.data = self._load_dataset()\n",
        "\n",
        "    def _find_classes(self):\n",
        "        class_names = [d for d in os.listdir(self.root_dir) if os.path.isdir(os.path.join(self.root_dir, d))]\n",
        "        return class_names\n",
        "\n",
        "    def _load_dataset(self):\n",
        "        data = []  # List to store file paths and class names\n",
        "        for class_name in self.class_names:\n",
        "            class_path = os.path.join(self.root_dir, class_name)\n",
        "            for file in os.listdir(class_path):\n",
        "                if file.endswith(\".dcm\"):\n",
        "                    file_path = os.path.join(class_path, file)\n",
        "                    data.append({\"image\": file_path, \"class_name\": class_name})\n",
        "        return data\n",
        "\n",
        "    def __getitem__(self, index):\n",
        "        item = self.data[index]\n",
        "        class_name = item['class_name']\n",
        "        return {'file_path': item['image'], 'class_name': class_name}\n",
        "\n",
        "    def __len__(self):\n",
        "        return len(self.data)"
      ],
      "metadata": {
        "id": "EFnNIrRo_Fzw"
      },
      "execution_count": 13,
      "outputs": []
    },
    {
      "cell_type": "code",
      "source": [
        "# Create a custom dataset\n",
        "max_image_size = (64, 64)\n",
        "train_data = CustomDICOMDataset(os.path.join(root_dir, \"MR_DICOM\"))"
      ],
      "metadata": {
        "id": "8ZeLz6cdAXE5"
      },
      "execution_count": 14,
      "outputs": []
    },
    {
      "cell_type": "code",
      "source": [
        "train_datalist = [{\"image\": item[\"image\"]} for item in train_data.data if item[\"class_name\"] == \"train\"]"
      ],
      "metadata": {
        "id": "p2SUEx5cAj9A"
      },
      "execution_count": 15,
      "outputs": []
    },
    {
      "cell_type": "code",
      "source": [
        "image_size = pydicom.read_file(train_datalist[0]['image']).pixel_array.shape\n",
        "image_size"
      ],
      "metadata": {
        "colab": {
          "base_uri": "https://localhost:8080/"
        },
        "id": "a0XBdjrOInn_",
        "outputId": "991112f0-81fe-48ae-fb9e-809c97a428a6"
      },
      "execution_count": 16,
      "outputs": [
        {
          "output_type": "execute_result",
          "data": {
            "text/plain": [
              "(420, 512)"
            ]
          },
          "metadata": {},
          "execution_count": 16
        }
      ]
    },
    {
      "cell_type": "code",
      "source": [
        "# Modify the transformation pipeline\n",
        "train_transforms = transforms.Compose([\n",
        "    transforms.LoadImageD(keys=[\"image\"]),\n",
        "    transforms.EnsureChannelFirstd(keys=[\"image\"]),\n",
        "    transforms.Resized(keys=[\"image\"], spatial_size=(64, 64),mode=\"bicubic\"),\n",
        "    transforms.ScaleIntensityRanged(keys=[\"image\"], a_min=0.0, a_max=255.0, b_min=0.0, b_max=1.0, clip=True),\n",
        "    transforms.RandAffined(\n",
        "        keys=[\"image\"],\n",
        "        rotate_range=[(-np.pi / 36, np.pi / 36), (-np.pi / 36, np.pi / 36)],\n",
        "        translate_range=[(-1, 1), (-1, 1)],\n",
        "        scale_range=[(-0.05, 0.05), (-0.05, 0.05)],\n",
        "        spatial_size=(64,64),  # Adjusted spatial_size\n",
        "        padding_mode=\"border\",\n",
        "        prob=0.5,\n",
        "    ),\n",
        "    transforms.CopyItemsd(keys=[\"image\"], times=1, names=[\"low_res_image\"]),\n",
        "    transforms.Resized(keys=[\"low_res_image\"], spatial_size=(16,16)),\n",
        "])\n",
        "\n",
        "# Apply the transformation to the dataset without caching\n",
        "train_ds = Dataset(data=train_datalist, transform=train_transforms)"
      ],
      "metadata": {
        "id": "ueQvSYjsCY6y"
      },
      "execution_count": 17,
      "outputs": []
    },
    {
      "cell_type": "code",
      "source": [
        "#%% extra check for dataset\n",
        "sample = train_ds[0]\n",
        "original_image = sample[\"image\"]\n",
        "low_res_image = sample[\"low_res_image\"]\n",
        "\n",
        "plt.imshow(original_image[0, :, :], cmap=\"gray\")\n",
        "plt.title(\"Original Image\")\n",
        "plt.show()\n",
        "\n",
        "plt.imshow(low_res_image[0,:,:], cmap=\"gray\")\n",
        "plt.title(\"Low resolution Image\")\n",
        "plt.show()"
      ],
      "metadata": {
        "colab": {
          "base_uri": "https://localhost:8080/",
          "height": 887
        },
        "id": "-9fKhCSRCnKy",
        "outputId": "0185c352-91a9-4bc6-e841-8ac24370b572"
      },
      "execution_count": 18,
      "outputs": [
        {
          "output_type": "display_data",
          "data": {
            "text/plain": [
              "<Figure size 640x480 with 1 Axes>"
            ],
            "image/png": "[encoded data removed]"
          },
          "metadata": {}
        },
        {
          "output_type": "display_data",
          "data": {
            "text/plain": [
              "<Figure size 640x480 with 1 Axes>"
            ],
            "image/png": "[encoded data removed]"
          },
          "metadata": {}
        }
      ]
    },
    {
      "cell_type": "code",
      "source": [
        "train_loader = DataLoader(train_ds, batch_size=5, shuffle=True, num_workers=0)\n",
        "# # Apply the transformation to the dataset\n",
        "# train_ds = CacheDataset(data=train_datalist, transform=train_transforms)\n",
        "# train_loader = DataLoader(train_ds, batch_size=5, shuffle=True, num_workers=4, persistent_workers=True)\n",
        "# %%\n",
        "#Plot 3 examples from the training set\n",
        "check_data = first(train_loader)\n",
        "fig, ax = plt.subplots(nrows=1, ncols=3)\n",
        "for i in range(3):\n",
        "    ax[i].imshow(check_data[\"image\"][i, 0, :, :], cmap=\"gray\")\n",
        "    ax[i].axis(\"off\")\n",
        "\n",
        "# %%\n",
        "# Plot 3 examples from the training set in low resolution\n",
        "fig, ax = plt.subplots(nrows=1, ncols=3)\n",
        "for i in range(3):\n",
        "    ax[i].imshow(check_data[\"low_res_image\"][i, 0, :, :], cmap=\"gray\")\n",
        "    ax[i].axis(\"off\")"
      ],
      "metadata": {
        "colab": {
          "base_uri": "https://localhost:8080/",
          "height": 347
        },
        "id": "SyesawFTJ0vh",
        "outputId": "8fea36f6-b9e7-434a-c843-953823df0405"
      },
      "execution_count": 19,
      "outputs": [
        {
          "output_type": "display_data",
          "data": {
            "text/plain": [
              "<Figure size 640x480 with 3 Axes>"
            ],
            "image/png": "[encoded data removed]"
          },
          "metadata": {}
        },
        {
          "output_type": "display_data",
          "data": {
            "text/plain": [
              "<Figure size 640x480 with 3 Axes>"
            ],
            "image/png": "[encoded data removed]"
          },
          "metadata": {}
        }
      ]
    },
    {
      "cell_type": "code",
      "source": [
        "# ## Create data loader for validation set\n",
        "val_data = CustomDICOMDataset(os.path.join(root_dir, \"MR_DICOM\"))\n",
        "val_datalist = [{\"image\": item[\"image\"]} for item in val_data.data if item[\"class_name\"] == \"validation\"]"
      ],
      "metadata": {
        "id": "gJghFtScKTeU"
      },
      "execution_count": 20,
      "outputs": []
    },
    {
      "cell_type": "code",
      "source": [
        "len(val_datalist)"
      ],
      "metadata": {
        "colab": {
          "base_uri": "https://localhost:8080/"
        },
        "id": "YKiaDOf35x1t",
        "outputId": "c7e4d5b1-8111-493b-a076-ec8aa239281c"
      },
      "execution_count": 21,
      "outputs": [
        {
          "output_type": "execute_result",
          "data": {
            "text/plain": [
              "1028"
            ]
          },
          "metadata": {},
          "execution_count": 21
        }
      ]
    },
    {
      "cell_type": "code",
      "source": [
        "val_transforms = transforms.Compose(\n",
        "    [\n",
        "        transforms.LoadImageD(keys=[\"image\"]),\n",
        "        transforms.EnsureChannelFirstd(keys=[\"image\"]),\n",
        "        transforms.Resized(keys=[\"image\"], spatial_size=(64, 64),mode=\"bicubic\"),\n",
        "        transforms.ScaleIntensityRanged(keys=[\"image\"], a_min=0.0, a_max=255.0, b_min=0.0, b_max=1.0, clip=True),\n",
        "        transforms.CopyItemsd(keys=[\"image\"], times=1, names=[\"low_res_image\"]),\n",
        "        transforms.Resized(keys=[\"low_res_image\"], spatial_size=(image_size[0]/4, image_size[1]/4)),\n",
        "    ]\n",
        ")\n",
        "val_ds = Dataset(data=val_datalist, transform=val_transforms)\n",
        "val_loader = DataLoader(val_ds, batch_size=5, shuffle=True, num_workers=0)"
      ],
      "metadata": {
        "id": "zWdiovrjKes1"
      },
      "execution_count": 22,
      "outputs": []
    },
    {
      "cell_type": "code",
      "source": [
        "device = torch.device(\"cuda\" if torch.cuda.is_available() else \"cpu\")\n",
        "print(f\"Using {device}\")"
      ],
      "metadata": {
        "colab": {
          "base_uri": "https://localhost:8080/"
        },
        "id": "T6KvUQUyKnee",
        "outputId": "d3d23e92-9c92-472b-e6be-f5a5d53dc061"
      },
      "execution_count": 23,
      "outputs": [
        {
          "output_type": "stream",
          "name": "stdout",
          "text": [
            "Using cuda\n"
          ]
        }
      ]
    },
    {
      "cell_type": "code",
      "source": [
        "# Define autoencoder\n",
        "autoencoderkl = AutoencoderKL(\n",
        "    spatial_dims=2,\n",
        "    in_channels=1,\n",
        "    out_channels=1,\n",
        "    num_channels=(256, 512, 512),\n",
        "    latent_channels=3,\n",
        "    num_res_blocks=2,\n",
        "    norm_num_groups=32,\n",
        "    attention_levels=(False, False, True),\n",
        ")\n",
        "autoencoderkl = autoencoderkl.to(device)\n",
        "\n",
        "discriminator = PatchDiscriminator(spatial_dims=2, in_channels=1, num_layers_d=3, num_channels=64)\n",
        "discriminator = discriminator.to(device)"
      ],
      "metadata": {
        "id": "bVYA6sP3KsTw"
      },
      "execution_count": 24,
      "outputs": []
    },
    {
      "cell_type": "code",
      "source": [
        "perceptual_loss = PerceptualLoss(spatial_dims=2, network_type=\"alex\")\n",
        "perceptual_loss.to(device)\n",
        "perceptual_weight = 0.002\n",
        "\n",
        "adv_loss = PatchAdversarialLoss(criterion=\"least_squares\")\n",
        "adv_weight = 0.005\n",
        "\n",
        "optimizer_g = torch.optim.Adam(autoencoderkl.parameters(), lr=5e-5)\n",
        "optimizer_d = torch.optim.Adam(discriminator.parameters(), lr=1e-4)\n",
        "\n",
        "# %%\n",
        "scaler_g = GradScaler()\n",
        "scaler_d = GradScaler()\n",
        "accumulation_steps = 4"
      ],
      "metadata": {
        "colab": {
          "base_uri": "https://localhost:8080/"
        },
        "id": "TkDsfaG4K61z",
        "outputId": "92963b73-6a42-4399-8843-ba7e4552f014"
      },
      "execution_count": 25,
      "outputs": [
        {
          "output_type": "stream",
          "name": "stderr",
          "text": [
            "/usr/local/lib/python3.10/dist-packages/torchvision/models/_utils.py:208: UserWarning: The parameter 'pretrained' is deprecated since 0.13 and may be removed in the future, please use 'weights' instead.\n",
            "  warnings.warn(\n",
            "/usr/local/lib/python3.10/dist-packages/torchvision/models/_utils.py:223: UserWarning: Arguments other than a weight enum or `None` for 'weights' are deprecated since 0.13 and may be removed in the future. The current behavior is equivalent to passing `weights=AlexNet_Weights.IMAGENET1K_V1`. You can also use `weights=AlexNet_Weights.DEFAULT` to get the most up-to-date weights.\n",
            "  warnings.warn(msg)\n",
            "Downloading: \"https://download.pytorch.org/models/alexnet-owt-7be5be79.pth\" to /root/.cache/torch/hub/checkpoints/alexnet-owt-7be5be79.pth\n",
            "100%|██████████| 233M/233M [00:03<00:00, 79.9MB/s]\n"
          ]
        }
      ]
    },
    {
      "cell_type": "code",
      "source": [
        "import gc"
      ],
      "metadata": {
        "id": "unEEPxz79Qs6"
      },
      "execution_count": 26,
      "outputs": []
    },
    {
      "cell_type": "code",
      "source": [
        " # ## Train Autoencoder\n",
        "\n",
        "# %%\n",
        "kl_weight = 1e-6\n",
        "n_epochs = 75\n",
        "val_interval = 10\n",
        "autoencoder_warm_up_n_epochs = 10\n",
        "\n",
        "for epoch in range(n_epochs):\n",
        "    autoencoderkl.train()\n",
        "    discriminator.train()\n",
        "    epoch_loss = 0\n",
        "    gen_epoch_loss = 0\n",
        "    disc_epoch_loss = 0\n",
        "    progress_bar = tqdm(enumerate(train_loader), total=len(train_loader), ncols=110)\n",
        "    progress_bar.set_description(f\"Epoch {epoch}\")\n",
        "    for step, batch in progress_bar:\n",
        "        images = batch[\"image\"].to(device)\n",
        "        optimizer_g.zero_grad(set_to_none=True)\n",
        "\n",
        "        with autocast(enabled=True):\n",
        "            reconstruction, z_mu, z_sigma = autoencoderkl(images)\n",
        "\n",
        "            recons_loss = F.l1_loss(reconstruction.float(), images.float())\n",
        "            p_loss = perceptual_loss(reconstruction.float(), images.float())\n",
        "            kl_loss = 0.5 * torch.sum(z_mu.pow(2) + z_sigma.pow(2) - torch.log(z_sigma.pow(2)) - 1, dim=[1, 2, 3])\n",
        "            kl_loss = torch.sum(kl_loss) / kl_loss.shape[0]\n",
        "            loss_g = recons_loss + (kl_weight * kl_loss) + (perceptual_weight * p_loss)\n",
        "\n",
        "            if epoch > autoencoder_warm_up_n_epochs:\n",
        "                logits_fake = discriminator(reconstruction.contiguous().float())[-1]\n",
        "                generator_loss = adv_loss(logits_fake, target_is_real=True, for_discriminator=False)\n",
        "                loss_g += adv_weight * generator_loss\n",
        "\n",
        "        scaler_g.scale(loss_g).backward()\n",
        "        scaler_g.step(optimizer_g)\n",
        "        scaler_g.update()\n",
        "\n",
        "        if epoch > autoencoder_warm_up_n_epochs:\n",
        "            optimizer_d.zero_grad(set_to_none=True)\n",
        "\n",
        "            with autocast(enabled=True):\n",
        "                logits_fake = discriminator(reconstruction.contiguous().detach())[-1]\n",
        "                loss_d_fake = adv_loss(logits_fake, target_is_real=False, for_discriminator=True)\n",
        "                logits_real = discriminator(images.contiguous().detach())[-1]\n",
        "                loss_d_real = adv_loss(logits_real, target_is_real=True, for_discriminator=True)\n",
        "                discriminator_loss = (loss_d_fake + loss_d_real) * 0.5\n",
        "\n",
        "                loss_d = adv_weight * discriminator_loss\n",
        "\n",
        "            scaler_d.scale(loss_d).backward()\n",
        "            scaler_d.step(optimizer_d)\n",
        "            scaler_d.update()\n",
        "\n",
        "        epoch_loss += recons_loss.item()\n",
        "        if epoch > autoencoder_warm_up_n_epochs:\n",
        "            gen_epoch_loss += generator_loss.item()\n",
        "            disc_epoch_loss += discriminator_loss.item()\n",
        "\n",
        "        progress_bar.set_postfix(\n",
        "            {\n",
        "                \"recons_loss\": epoch_loss / (step + 1),\n",
        "                \"gen_loss\": gen_epoch_loss / (step + 1),\n",
        "                \"disc_loss\": disc_epoch_loss / (step + 1),\n",
        "            }\n",
        "        )\n",
        "\n",
        "    if (epoch + 1) % val_interval == 0:\n",
        "        autoencoderkl.eval()\n",
        "        val_loss = 0\n",
        "        with torch.no_grad():\n",
        "            for val_step, batch in enumerate(val_loader, start=1):\n",
        "                images = batch[\"image\"].to(device)\n",
        "                reconstruction, z_mu, z_sigma = autoencoderkl(images)\n",
        "                recons_loss = F.l1_loss(images.float(), reconstruction.float())\n",
        "                val_loss += recons_loss.item()\n",
        "\n",
        "        val_loss /= val_step\n",
        "        print(f\"epoch {epoch + 1} val loss: {val_loss:.4f}\")\n",
        "\n",
        "        # ploting reconstruction\n",
        "        plt.figure(figsize=(2, 2))\n",
        "        plt.imshow(torch.cat([images[0, 0].cpu(), reconstruction[0, 0].cpu()], dim=1), vmin=0, vmax=1, cmap=\"gray\")\n",
        "        plt.tight_layout()\n",
        "        plt.axis(\"off\")\n",
        "        plt.show()\n",
        "\n",
        "progress_bar.close()\n",
        "\n",
        "del discriminator\n",
        "del perceptual_loss\n",
        "torch.cuda.empty_cache()"
      ],
      "metadata": {
        "colab": {
          "base_uri": "https://localhost:8080/",
          "height": 667
        },
        "id": "E2hVs0jJLDXl",
        "outputId": "23e6f08d-5868-4c1c-a6f6-60cd37fa4385"
      },
      "execution_count": null,
      "outputs": [
        {
          "output_type": "stream",
          "name": "stderr",
          "text": [
            "Epoch 0: 100%|██████████████████| 423/423 [01:46<00:00,  3.98it/s, recons_loss=0.181, gen_loss=0, disc_loss=0]\n",
            "Epoch 1: 100%|█████████████████| 423/423 [01:44<00:00,  4.04it/s, recons_loss=0.0793, gen_loss=0, disc_loss=0]\n",
            "Epoch 2: 100%|█████████████████| 423/423 [01:44<00:00,  4.03it/s, recons_loss=0.0717, gen_loss=0, disc_loss=0]\n",
            "Epoch 3: 100%|██████████████████| 423/423 [01:44<00:00,  4.04it/s, recons_loss=0.062, gen_loss=0, disc_loss=0]\n",
            "Epoch 4: 100%|█████████████████| 423/423 [01:44<00:00,  4.05it/s, recons_loss=0.0605, gen_loss=0, disc_loss=0]\n",
            "Epoch 5: 100%|█████████████████| 423/423 [01:44<00:00,  4.04it/s, recons_loss=0.0583, gen_loss=0, disc_loss=0]\n",
            "Epoch 6: 100%|█████████████████| 423/423 [01:44<00:00,  4.04it/s, recons_loss=0.0585, gen_loss=0, disc_loss=0]\n",
            "Epoch 7: 100%|█████████████████| 423/423 [01:44<00:00,  4.04it/s, recons_loss=0.0553, gen_loss=0, disc_loss=0]\n",
            "Epoch 8: 100%|█████████████████| 423/423 [01:44<00:00,  4.04it/s, recons_loss=0.0538, gen_loss=0, disc_loss=0]\n",
            "Epoch 9: 100%|█████████████████| 423/423 [01:45<00:00,  4.02it/s, recons_loss=0.0535, gen_loss=0, disc_loss=0]\n"
          ]
        },
        {
          "output_type": "stream",
          "name": "stdout",
          "text": [
            "epoch 10 val loss: 0.0551\n"
          ]
        },
        {
          "output_type": "display_data",
          "data": {
            "text/plain": [
              "<Figure size 200x200 with 1 Axes>"
            ],
            "image/png": "[encoded data removed]"
          },
          "metadata": {}
        },
        {
          "output_type": "stream",
          "name": "stderr",
          "text": [
            "Epoch 10: 100%|████████████████| 423/423 [01:45<00:00,  4.00it/s, recons_loss=0.0527, gen_loss=0, disc_loss=0]\n",
            "Epoch 11: 100%|████████| 423/423 [01:50<00:00,  3.83it/s, recons_loss=0.0519, gen_loss=0.545, disc_loss=0.329]\n",
            "Epoch 12: 100%|████████| 423/423 [01:50<00:00,  3.83it/s, recons_loss=0.0495, gen_loss=0.773, disc_loss=0.127]\n",
            "Epoch 13: 100%|███████| 423/423 [01:52<00:00,  3.77it/s, recons_loss=0.0479, gen_loss=0.852, disc_loss=0.0806]\n",
            "Epoch 14: 100%|███████| 423/423 [01:50<00:00,  3.81it/s, recons_loss=0.0471, gen_loss=0.884, disc_loss=0.0867]\n",
            "Epoch 15: 100%|████████| 423/423 [01:51<00:00,  3.80it/s, recons_loss=0.0455, gen_loss=0.868, disc_loss=0.093]\n",
            "Epoch 16: 100%|█████████| 423/423 [01:51<00:00,  3.79it/s, recons_loss=0.047, gen_loss=0.796, disc_loss=0.146]\n",
            "Epoch 17: 100%|█████████| 423/423 [01:51<00:00,  3.78it/s, recons_loss=0.0456, gen_loss=0.77, disc_loss=0.145]\n",
            "Epoch 18: 100%|████████| 423/423 [01:52<00:00,  3.77it/s, recons_loss=0.0445, gen_loss=0.772, disc_loss=0.168]\n",
            "Epoch 19: 100%|████████| 423/423 [01:51<00:00,  3.79it/s, recons_loss=0.0481, gen_loss=0.815, disc_loss=0.145]\n"
          ]
        },
        {
          "output_type": "stream",
          "name": "stdout",
          "text": [
            "epoch 20 val loss: 0.0519\n"
          ]
        },
        {
          "output_type": "display_data",
          "data": {
            "text/plain": [
              "<Figure size 200x200 with 1 Axes>"
            ],
            "image/png": "[encoded data removed]"
          },
          "metadata": {}
        },
        {
          "output_type": "stream",
          "name": "stderr",
          "text": [
            "Epoch 20: 100%|████████| 423/423 [01:50<00:00,  3.82it/s, recons_loss=0.0439, gen_loss=0.784, disc_loss=0.161]\n",
            "Epoch 21: 100%|████████| 423/423 [01:50<00:00,  3.82it/s, recons_loss=0.0433, gen_loss=0.789, disc_loss=0.169]\n",
            "Epoch 22: 100%|████████| 423/423 [01:51<00:00,  3.78it/s, recons_loss=0.0418, gen_loss=0.785, disc_loss=0.159]\n",
            "Epoch 23: 100%|████████| 423/423 [01:51<00:00,  3.79it/s, recons_loss=0.0425, gen_loss=0.758, disc_loss=0.184]\n",
            "Epoch 24:  26%|██      | 108/423 [00:28<01:33,  3.36it/s, recons_loss=0.0431, gen_loss=0.736, disc_loss=0.175]"
          ]
        }
      ]
    },
    {
      "cell_type": "code",
      "source": [
        "with torch.no_grad():\n",
        "    with autocast(enabled=True):\n",
        "        z = autoencoderkl.encode_stage_2_inputs(check_data[\"image\"].to(device))\n",
        "\n",
        "print(f\"Scaling factor set to {1/torch.std(z)}\")\n",
        "scale_factor = 1 / torch.std(z)"
      ],
      "metadata": {
        "colab": {
          "base_uri": "https://localhost:8080/"
        },
        "id": "ilun-3fXOKJn",
        "outputId": "d9144077-40a6-4c7e-d316-e81ac8e082b5"
      },
      "execution_count": null,
      "outputs": [
        {
          "output_type": "stream",
          "name": "stdout",
          "text": [
            "Scaling factor set to 0.9475966691970825\n"
          ]
        }
      ]
    },
    {
      "cell_type": "code",
      "source": [
        "# ## Train Diffusion Model\n",
        "#\n",
        "# In order to train the diffusion model to perform super-resolution, we will need to concatenate the latent representation of the high-resolution with the low-resolution image. For this, we create a Diffusion model with `in_channels=4`. Since only the outputted latent representation is interesting, we set `out_channels=3`.\n",
        "\n",
        "# %%\n",
        "unet = DiffusionModelUNet(\n",
        "    spatial_dims=2,\n",
        "    in_channels=4,\n",
        "    out_channels=3,\n",
        "    num_res_blocks=2,\n",
        "    num_channels=(256, 256, 512, 1024),\n",
        "    attention_levels=(False, False, True, True),\n",
        "    num_head_channels=(0, 0, 64, 64),\n",
        ")\n",
        "unet = unet.to(device)\n",
        "\n",
        "scheduler = DDPMScheduler(num_train_timesteps=1000, schedule=\"linear_beta\", beta_start=0.0015, beta_end=0.0195)\n"
      ],
      "metadata": {
        "id": "zc3TpWDdOK3e"
      },
      "execution_count": null,
      "outputs": []
    },
    {
      "cell_type": "code",
      "source": [
        "# %%\n",
        "low_res_scheduler = DDPMScheduler(num_train_timesteps=1000, schedule=\"linear_beta\", beta_start=0.0015, beta_end=0.0195)\n",
        "\n",
        "max_noise_level = 350"
      ],
      "metadata": {
        "id": "6n1poJZ3OOBI"
      },
      "execution_count": null,
      "outputs": []
    },
    {
      "cell_type": "code",
      "source": [
        "# %%\n",
        "optimizer = torch.optim.Adam(unet.parameters(), lr=5e-5)\n",
        "\n",
        "scaler_diffusion = GradScaler()\n",
        "\n",
        "n_epochs = 200\n",
        "val_interval = 20\n",
        "epoch_loss_list = []\n",
        "val_epoch_loss_list = []\n",
        "\n",
        "for epoch in range(n_epochs):\n",
        "    unet.train()\n",
        "    autoencoderkl.eval()\n",
        "    epoch_loss = 0\n",
        "    progress_bar = tqdm(enumerate(train_loader), total=len(train_loader), ncols=110)\n",
        "    progress_bar.set_description(f\"Epoch {epoch}\")\n",
        "    for step, batch in progress_bar:\n",
        "        images = batch[\"image\"].to(device)\n",
        "        low_res_image = batch[\"low_res_image\"].to(device)\n",
        "        optimizer.zero_grad(set_to_none=True)\n",
        "\n",
        "        with autocast(enabled=True):\n",
        "            with torch.no_grad():\n",
        "                latent = autoencoderkl.encode_stage_2_inputs(images) * scale_factor\n",
        "\n",
        "            # Noise augmentation\n",
        "            noise = torch.randn_like(latent).to(device)\n",
        "            low_res_noise = torch.randn_like(low_res_image).to(device)\n",
        "            timesteps = torch.randint(0, scheduler.num_train_timesteps, (latent.shape[0],), device=latent.device).long()\n",
        "            low_res_timesteps = torch.randint(\n",
        "                0, max_noise_level, (low_res_image.shape[0],), device=low_res_image.device\n",
        "            ).long()\n",
        "\n",
        "            noisy_latent = scheduler.add_noise(original_samples=latent, noise=noise, timesteps=timesteps)\n",
        "            noisy_low_res_image = scheduler.add_noise(\n",
        "                original_samples=low_res_image, noise=low_res_noise, timesteps=low_res_timesteps\n",
        "            )\n",
        "\n",
        "            latent_model_input = torch.cat([noisy_latent, noisy_low_res_image], dim=1)\n",
        "\n",
        "            noise_pred = unet(x=latent_model_input, timesteps=timesteps, class_labels=low_res_timesteps)\n",
        "            loss = F.mse_loss(noise_pred.float(), noise.float())\n",
        "\n",
        "        scaler_diffusion.scale(loss).backward()\n",
        "        scaler_diffusion.step(optimizer)\n",
        "        scaler_diffusion.update()\n",
        "\n",
        "        epoch_loss += loss.item()\n",
        "\n",
        "        progress_bar.set_postfix({\"loss\": epoch_loss / (step + 1)})\n",
        "    epoch_loss_list.append(epoch_loss / (step + 1))\n",
        "\n",
        "    if (epoch + 1) % val_interval == 0:\n",
        "        unet.eval()\n",
        "        val_loss = 0\n",
        "        for val_step, batch in enumerate(val_loader, start=1):\n",
        "            images = batch[\"image\"].to(device)\n",
        "            low_res_image = batch[\"low_res_image\"].to(device)\n",
        "\n",
        "            with torch.no_grad():\n",
        "                with autocast(enabled=True):\n",
        "                    latent = autoencoderkl.encode_stage_2_inputs(images) * scale_factor\n",
        "                    # Noise augmentation\n",
        "                    noise = torch.randn_like(latent).to(device)\n",
        "                    low_res_noise = torch.randn_like(low_res_image).to(device)\n",
        "                    timesteps = torch.randint(\n",
        "                        0, scheduler.num_train_timesteps, (latent.shape[0],), device=latent.device\n",
        "                    ).long()\n",
        "                    low_res_timesteps = torch.randint(\n",
        "                        0, max_noise_level, (low_res_image.shape[0],), device=low_res_image.device\n",
        "                    ).long()\n",
        "\n",
        "                    noisy_latent = scheduler.add_noise(original_samples=latent, noise=noise, timesteps=timesteps)\n",
        "                    noisy_low_res_image = scheduler.add_noise(\n",
        "                        original_samples=low_res_image, noise=low_res_noise, timesteps=low_res_timesteps\n",
        "                    )\n",
        "\n",
        "                    # Check if the shapes need flipping\n",
        "                    if noisy_latent.shape[2:] != noisy_low_res_image.shape[2:]:\n",
        "                        # Flip the noisy_low_res_image along the specified dimensions\n",
        "                        noisy_latent = noisy_latent.permute(0, 1, 3, 2).contiguous()\n",
        "                    latent_model_input = torch.cat([noisy_latent, noisy_low_res_image], dim=1)\n",
        "                    noise_pred = unet(x=latent_model_input, timesteps=timesteps, class_labels=low_res_timesteps)\n",
        "                    loss = F.mse_loss(noise_pred.float(), noise.float())\n",
        "\n",
        "            val_loss += loss.item()\n",
        "        val_loss /= val_step\n",
        "        val_epoch_loss_list.append(val_loss)\n",
        "        print(f\"Epoch {epoch} val loss: {val_loss:.4f}\")\n",
        "\n",
        "        # Sampling image during training\n",
        "        sampling_image = low_res_image[0].unsqueeze(0)\n",
        "        latents = torch.randn((1, 3, 16, 16)).to(device)\n",
        "        low_res_noise = torch.randn((1, 1, 16, 16)).to(device)\n",
        "        noise_level = 20\n",
        "        noise_level = torch.Tensor((noise_level,)).long().to(device)\n",
        "        noisy_low_res_image = scheduler.add_noise(\n",
        "            original_samples=sampling_image,\n",
        "            noise=low_res_noise,\n",
        "            timesteps=torch.Tensor((noise_level,)).long().to(device),\n",
        "        )\n",
        "\n",
        "        scheduler.set_timesteps(num_inference_steps=1000)\n",
        "        for t in tqdm(scheduler.timesteps, ncols=110):\n",
        "            with torch.no_grad():\n",
        "                with autocast(enabled=True):\n",
        "                    latent_model_input = torch.cat([latents, noisy_low_res_image], dim=1)\n",
        "                    noise_pred = unet(\n",
        "                        x=latent_model_input, timesteps=torch.Tensor((t,)).to(device), class_labels=noise_level\n",
        "                    )\n",
        "                latents, _ = scheduler.step(noise_pred, t, latents)\n",
        "\n",
        "        with torch.no_grad():\n",
        "            decoded = autoencoderkl.decode_stage_2_outputs(latents / scale_factor)\n",
        "\n",
        "        low_res_bicubic = nn.functional.interpolate(sampling_image, (64, 64), mode=\"bicubic\")\n",
        "        plt.figure(figsize=(2, 2))\n",
        "        plt.style.use(\"default\")\n",
        "        plt.imshow(\n",
        "            torch.cat([images[0, 0].cpu(), low_res_bicubic[0, 0].cpu(), decoded[0, 0].cpu()], dim=1),\n",
        "            vmin=0,\n",
        "            vmax=1,\n",
        "            cmap=\"gray\",\n",
        "        )\n",
        "        plt.tight_layout()\n",
        "        plt.axis(\"off\")\n",
        "        plt.show()"
      ],
      "metadata": {
        "colab": {
          "base_uri": "https://localhost:8080/",
          "height": 809
        },
        "id": "QS-A8fjxORvP",
        "outputId": "b96a4068-cb7e-402a-8d9d-ff766fb8a678"
      },
      "execution_count": null,
      "outputs": [
        {
          "output_type": "stream",
          "name": "stderr",
          "text": [
            "Epoch 0: 100%|████████████████████████████████████████████████████| 16/16 [00:07<00:00,  2.28it/s, loss=0.886]\n",
            "Epoch 1: 100%|████████████████████████████████████████████████████| 16/16 [00:06<00:00,  2.48it/s, loss=0.626]\n",
            "Epoch 2: 100%|████████████████████████████████████████████████████| 16/16 [00:06<00:00,  2.37it/s, loss=0.413]\n",
            "Epoch 3: 100%|████████████████████████████████████████████████████| 16/16 [00:08<00:00,  1.96it/s, loss=0.364]\n",
            "Epoch 4: 100%|█████████████████████████████████████████████████████| 16/16 [00:06<00:00,  2.44it/s, loss=0.33]\n",
            "Epoch 5: 100%|████████████████████████████████████████████████████| 16/16 [00:06<00:00,  2.38it/s, loss=0.218]\n",
            "Epoch 6: 100%|████████████████████████████████████████████████████| 16/16 [00:06<00:00,  2.43it/s, loss=0.203]\n",
            "Epoch 7: 100%|████████████████████████████████████████████████████| 16/16 [00:06<00:00,  2.40it/s, loss=0.263]\n",
            "Epoch 8: 100%|████████████████████████████████████████████████████| 16/16 [00:06<00:00,  2.47it/s, loss=0.185]\n",
            "Epoch 9: 100%|████████████████████████████████████████████████████| 16/16 [00:06<00:00,  2.38it/s, loss=0.223]\n",
            "Epoch 10: 100%|███████████████████████████████████████████████████| 16/16 [00:06<00:00,  2.46it/s, loss=0.169]\n",
            "Epoch 11: 100%|███████████████████████████████████████████████████| 16/16 [00:06<00:00,  2.39it/s, loss=0.238]\n",
            "Epoch 12: 100%|███████████████████████████████████████████████████| 16/16 [00:06<00:00,  2.40it/s, loss=0.196]\n",
            "Epoch 13: 100%|███████████████████████████████████████████████████| 16/16 [00:06<00:00,  2.46it/s, loss=0.195]\n",
            "Epoch 14: 100%|████████████████████████████████████████████████████| 16/16 [00:06<00:00,  2.39it/s, loss=0.17]\n",
            "Epoch 15: 100%|███████████████████████████████████████████████████| 16/16 [00:06<00:00,  2.46it/s, loss=0.187]\n",
            "Epoch 16: 100%|███████████████████████████████████████████████████| 16/16 [00:06<00:00,  2.30it/s, loss=0.203]\n",
            "Epoch 17: 100%|███████████████████████████████████████████████████| 16/16 [00:06<00:00,  2.46it/s, loss=0.163]\n",
            "Epoch 18: 100%|███████████████████████████████████████████████████| 16/16 [00:06<00:00,  2.38it/s, loss=0.174]\n",
            "Epoch 19: 100%|███████████████████████████████████████████████████| 16/16 [00:07<00:00,  2.21it/s, loss=0.165]\n",
            "/usr/local/lib/python3.10/dist-packages/torch/_tensor.py:1386: UserWarning: Using a target size (torch.Size([5, 3, 72, 56])) that is different to the input size (torch.Size([5, 3, 56, 72])). This will likely lead to incorrect results due to broadcasting. Please ensure they have the same size.\n",
            "  ret = func(*args, **kwargs)\n"
          ]
        },
        {
          "output_type": "error",
          "ename": "RuntimeError",
          "evalue": "The size of tensor a (72) must match the size of tensor b (56) at non-singleton dimension 3",
          "traceback": [
            "\u001b[0;31m---------------------------------------------------------------------------\u001b[0m",
            "\u001b[0;31mRuntimeError\u001b[0m                              Traceback (most recent call last)",
            "\u001b[0;32m<ipython-input-49-1456f5df9777>\u001b[0m in \u001b[0;36m<cell line: 11>\u001b[0;34m()\u001b[0m\n\u001b[1;32m     82\u001b[0m                     \u001b[0mlatent_model_input\u001b[0m \u001b[0;34m=\u001b[0m \u001b[0mtorch\u001b[0m\u001b[0;34m.\u001b[0m\u001b[0mcat\u001b[0m\u001b[0;34m(\u001b[0m\u001b[0;34m[\u001b[0m\u001b[0mnoisy_latent\u001b[0m\u001b[0;34m,\u001b[0m \u001b[0mnoisy_low_res_image\u001b[0m\u001b[0;34m]\u001b[0m\u001b[0;34m,\u001b[0m \u001b[0mdim\u001b[0m\u001b[0;34m=\u001b[0m\u001b[0;36m1\u001b[0m\u001b[0;34m)\u001b[0m\u001b[0;34m\u001b[0m\u001b[0;34m\u001b[0m\u001b[0m\n\u001b[1;32m     83\u001b[0m                     \u001b[0mnoise_pred\u001b[0m \u001b[0;34m=\u001b[0m \u001b[0munet\u001b[0m\u001b[0;34m(\u001b[0m\u001b[0mx\u001b[0m\u001b[0;34m=\u001b[0m\u001b[0mlatent_model_input\u001b[0m\u001b[0;34m,\u001b[0m \u001b[0mtimesteps\u001b[0m\u001b[0;34m=\u001b[0m\u001b[0mtimesteps\u001b[0m\u001b[0;34m,\u001b[0m \u001b[0mclass_labels\u001b[0m\u001b[0;34m=\u001b[0m\u001b[0mlow_res_timesteps\u001b[0m\u001b[0;34m)\u001b[0m\u001b[0;34m\u001b[0m\u001b[0;34m\u001b[0m\u001b[0m\n\u001b[0;32m---> 84\u001b[0;31m                     \u001b[0mloss\u001b[0m \u001b[0;34m=\u001b[0m \u001b[0mF\u001b[0m\u001b[0;34m.\u001b[0m\u001b[0mmse_loss\u001b[0m\u001b[0;34m(\u001b[0m\u001b[0mnoise_pred\u001b[0m\u001b[0;34m.\u001b[0m\u001b[0mfloat\u001b[0m\u001b[0;34m(\u001b[0m\u001b[0;34m)\u001b[0m\u001b[0;34m,\u001b[0m \u001b[0mnoise\u001b[0m\u001b[0;34m.\u001b[0m\u001b[0mfloat\u001b[0m\u001b[0;34m(\u001b[0m\u001b[0;34m)\u001b[0m\u001b[0;34m)\u001b[0m\u001b[0;34m\u001b[0m\u001b[0;34m\u001b[0m\u001b[0m\n\u001b[0m\u001b[1;32m     85\u001b[0m \u001b[0;34m\u001b[0m\u001b[0m\n\u001b[1;32m     86\u001b[0m             \u001b[0mval_loss\u001b[0m \u001b[0;34m+=\u001b[0m \u001b[0mloss\u001b[0m\u001b[0;34m.\u001b[0m\u001b[0mitem\u001b[0m\u001b[0;34m(\u001b[0m\u001b[0;34m)\u001b[0m\u001b[0;34m\u001b[0m\u001b[0;34m\u001b[0m\u001b[0m\n",
            "\u001b[0;32m/usr/local/lib/python3.10/dist-packages/torch/nn/functional.py\u001b[0m in \u001b[0;36mmse_loss\u001b[0;34m(input, target, size_average, reduce, reduction)\u001b[0m\n\u001b[1;32m   3313\u001b[0m     \"\"\"\n\u001b[1;32m   3314\u001b[0m     \u001b[0;32mif\u001b[0m \u001b[0mhas_torch_function_variadic\u001b[0m\u001b[0;34m(\u001b[0m\u001b[0minput\u001b[0m\u001b[0;34m,\u001b[0m \u001b[0mtarget\u001b[0m\u001b[0;34m)\u001b[0m\u001b[0;34m:\u001b[0m\u001b[0;34m\u001b[0m\u001b[0;34m\u001b[0m\u001b[0m\n\u001b[0;32m-> 3315\u001b[0;31m         return handle_torch_function(\n\u001b[0m\u001b[1;32m   3316\u001b[0m             \u001b[0mmse_loss\u001b[0m\u001b[0;34m,\u001b[0m \u001b[0;34m(\u001b[0m\u001b[0minput\u001b[0m\u001b[0;34m,\u001b[0m \u001b[0mtarget\u001b[0m\u001b[0;34m)\u001b[0m\u001b[0;34m,\u001b[0m \u001b[0minput\u001b[0m\u001b[0;34m,\u001b[0m \u001b[0mtarget\u001b[0m\u001b[0;34m,\u001b[0m \u001b[0msize_average\u001b[0m\u001b[0;34m=\u001b[0m\u001b[0msize_average\u001b[0m\u001b[0;34m,\u001b[0m \u001b[0mreduce\u001b[0m\u001b[0;34m=\u001b[0m\u001b[0mreduce\u001b[0m\u001b[0;34m,\u001b[0m \u001b[0mreduction\u001b[0m\u001b[0;34m=\u001b[0m\u001b[0mreduction\u001b[0m\u001b[0;34m\u001b[0m\u001b[0;34m\u001b[0m\u001b[0m\n\u001b[1;32m   3317\u001b[0m         )\n",
            "\u001b[0;32m/usr/local/lib/python3.10/dist-packages/torch/overrides.py\u001b[0m in \u001b[0;36mhandle_torch_function\u001b[0;34m(public_api, relevant_args, *args, **kwargs)\u001b[0m\n\u001b[1;32m   1575\u001b[0m         \u001b[0;31m# Use `public_api` instead of `implementation` so __torch_function__\u001b[0m\u001b[0;34m\u001b[0m\u001b[0;34m\u001b[0m\u001b[0m\n\u001b[1;32m   1576\u001b[0m         \u001b[0;31m# implementations can do equality/identity comparisons.\u001b[0m\u001b[0;34m\u001b[0m\u001b[0;34m\u001b[0m\u001b[0m\n\u001b[0;32m-> 1577\u001b[0;31m         \u001b[0mresult\u001b[0m \u001b[0;34m=\u001b[0m \u001b[0mtorch_func_method\u001b[0m\u001b[0;34m(\u001b[0m\u001b[0mpublic_api\u001b[0m\u001b[0;34m,\u001b[0m \u001b[0mtypes\u001b[0m\u001b[0;34m,\u001b[0m \u001b[0margs\u001b[0m\u001b[0;34m,\u001b[0m \u001b[0mkwargs\u001b[0m\u001b[0;34m)\u001b[0m\u001b[0;34m\u001b[0m\u001b[0;34m\u001b[0m\u001b[0m\n\u001b[0m\u001b[1;32m   1578\u001b[0m \u001b[0;34m\u001b[0m\u001b[0m\n\u001b[1;32m   1579\u001b[0m         \u001b[0;32mif\u001b[0m \u001b[0mresult\u001b[0m \u001b[0;32mis\u001b[0m \u001b[0;32mnot\u001b[0m \u001b[0mNotImplemented\u001b[0m\u001b[0;34m:\u001b[0m\u001b[0;34m\u001b[0m\u001b[0;34m\u001b[0m\u001b[0m\n",
            "\u001b[0;32m/usr/local/lib/python3.10/dist-packages/monai/data/meta_tensor.py\u001b[0m in \u001b[0;36m__torch_function__\u001b[0;34m(cls, func, types, args, kwargs)\u001b[0m\n\u001b[1;32m    280\u001b[0m         \u001b[0;32mif\u001b[0m \u001b[0mkwargs\u001b[0m \u001b[0;32mis\u001b[0m \u001b[0;32mNone\u001b[0m\u001b[0;34m:\u001b[0m\u001b[0;34m\u001b[0m\u001b[0;34m\u001b[0m\u001b[0m\n\u001b[1;32m    281\u001b[0m             \u001b[0mkwargs\u001b[0m \u001b[0;34m=\u001b[0m \u001b[0;34m{\u001b[0m\u001b[0;34m}\u001b[0m\u001b[0;34m\u001b[0m\u001b[0;34m\u001b[0m\u001b[0m\n\u001b[0;32m--> 282\u001b[0;31m         \u001b[0mret\u001b[0m \u001b[0;34m=\u001b[0m \u001b[0msuper\u001b[0m\u001b[0;34m(\u001b[0m\u001b[0;34m)\u001b[0m\u001b[0;34m.\u001b[0m\u001b[0m__torch_function__\u001b[0m\u001b[0;34m(\u001b[0m\u001b[0mfunc\u001b[0m\u001b[0;34m,\u001b[0m \u001b[0mtypes\u001b[0m\u001b[0;34m,\u001b[0m \u001b[0margs\u001b[0m\u001b[0;34m,\u001b[0m \u001b[0mkwargs\u001b[0m\u001b[0;34m)\u001b[0m\u001b[0;34m\u001b[0m\u001b[0;34m\u001b[0m\u001b[0m\n\u001b[0m\u001b[1;32m    283\u001b[0m         \u001b[0;31m# if `out` has been used as argument, metadata is not copied, nothing to do.\u001b[0m\u001b[0;34m\u001b[0m\u001b[0;34m\u001b[0m\u001b[0m\n\u001b[1;32m    284\u001b[0m         \u001b[0;31m# if \"out\" in kwargs:\u001b[0m\u001b[0;34m\u001b[0m\u001b[0;34m\u001b[0m\u001b[0m\n",
            "\u001b[0;32m/usr/local/lib/python3.10/dist-packages/torch/_tensor.py\u001b[0m in \u001b[0;36m__torch_function__\u001b[0;34m(cls, func, types, args, kwargs)\u001b[0m\n\u001b[1;32m   1384\u001b[0m \u001b[0;34m\u001b[0m\u001b[0m\n\u001b[1;32m   1385\u001b[0m         \u001b[0;32mwith\u001b[0m \u001b[0m_C\u001b[0m\u001b[0;34m.\u001b[0m\u001b[0mDisableTorchFunctionSubclass\u001b[0m\u001b[0;34m(\u001b[0m\u001b[0;34m)\u001b[0m\u001b[0;34m:\u001b[0m\u001b[0;34m\u001b[0m\u001b[0;34m\u001b[0m\u001b[0m\n\u001b[0;32m-> 1386\u001b[0;31m             \u001b[0mret\u001b[0m \u001b[0;34m=\u001b[0m \u001b[0mfunc\u001b[0m\u001b[0;34m(\u001b[0m\u001b[0;34m*\u001b[0m\u001b[0margs\u001b[0m\u001b[0;34m,\u001b[0m \u001b[0;34m**\u001b[0m\u001b[0mkwargs\u001b[0m\u001b[0;34m)\u001b[0m\u001b[0;34m\u001b[0m\u001b[0;34m\u001b[0m\u001b[0m\n\u001b[0m\u001b[1;32m   1387\u001b[0m             \u001b[0;32mif\u001b[0m \u001b[0mfunc\u001b[0m \u001b[0;32min\u001b[0m \u001b[0mget_default_nowrap_functions\u001b[0m\u001b[0;34m(\u001b[0m\u001b[0;34m)\u001b[0m\u001b[0;34m:\u001b[0m\u001b[0;34m\u001b[0m\u001b[0;34m\u001b[0m\u001b[0m\n\u001b[1;32m   1388\u001b[0m                 \u001b[0;32mreturn\u001b[0m \u001b[0mret\u001b[0m\u001b[0;34m\u001b[0m\u001b[0;34m\u001b[0m\u001b[0m\n",
            "\u001b[0;32m/usr/local/lib/python3.10/dist-packages/torch/nn/functional.py\u001b[0m in \u001b[0;36mmse_loss\u001b[0;34m(input, target, size_average, reduce, reduction)\u001b[0m\n\u001b[1;32m   3326\u001b[0m         \u001b[0mreduction\u001b[0m \u001b[0;34m=\u001b[0m \u001b[0m_Reduction\u001b[0m\u001b[0;34m.\u001b[0m\u001b[0mlegacy_get_string\u001b[0m\u001b[0;34m(\u001b[0m\u001b[0msize_average\u001b[0m\u001b[0;34m,\u001b[0m \u001b[0mreduce\u001b[0m\u001b[0;34m)\u001b[0m\u001b[0;34m\u001b[0m\u001b[0;34m\u001b[0m\u001b[0m\n\u001b[1;32m   3327\u001b[0m \u001b[0;34m\u001b[0m\u001b[0m\n\u001b[0;32m-> 3328\u001b[0;31m     \u001b[0mexpanded_input\u001b[0m\u001b[0;34m,\u001b[0m \u001b[0mexpanded_target\u001b[0m \u001b[0;34m=\u001b[0m \u001b[0mtorch\u001b[0m\u001b[0;34m.\u001b[0m\u001b[0mbroadcast_tensors\u001b[0m\u001b[0;34m(\u001b[0m\u001b[0minput\u001b[0m\u001b[0;34m,\u001b[0m \u001b[0mtarget\u001b[0m\u001b[0;34m)\u001b[0m\u001b[0;34m\u001b[0m\u001b[0;34m\u001b[0m\u001b[0m\n\u001b[0m\u001b[1;32m   3329\u001b[0m     \u001b[0;32mreturn\u001b[0m \u001b[0mtorch\u001b[0m\u001b[0;34m.\u001b[0m\u001b[0m_C\u001b[0m\u001b[0;34m.\u001b[0m\u001b[0m_nn\u001b[0m\u001b[0;34m.\u001b[0m\u001b[0mmse_loss\u001b[0m\u001b[0;34m(\u001b[0m\u001b[0mexpanded_input\u001b[0m\u001b[0;34m,\u001b[0m \u001b[0mexpanded_target\u001b[0m\u001b[0;34m,\u001b[0m \u001b[0m_Reduction\u001b[0m\u001b[0;34m.\u001b[0m\u001b[0mget_enum\u001b[0m\u001b[0;34m(\u001b[0m\u001b[0mreduction\u001b[0m\u001b[0;34m)\u001b[0m\u001b[0;34m)\u001b[0m\u001b[0;34m\u001b[0m\u001b[0;34m\u001b[0m\u001b[0m\n\u001b[1;32m   3330\u001b[0m \u001b[0;34m\u001b[0m\u001b[0m\n",
            "\u001b[0;32m/usr/local/lib/python3.10/dist-packages/torch/functional.py\u001b[0m in \u001b[0;36mbroadcast_tensors\u001b[0;34m(*tensors)\u001b[0m\n\u001b[1;32m     71\u001b[0m     \u001b[0;32mif\u001b[0m \u001b[0mhas_torch_function\u001b[0m\u001b[0;34m(\u001b[0m\u001b[0mtensors\u001b[0m\u001b[0;34m)\u001b[0m\u001b[0;34m:\u001b[0m\u001b[0;34m\u001b[0m\u001b[0;34m\u001b[0m\u001b[0m\n\u001b[1;32m     72\u001b[0m         \u001b[0;32mreturn\u001b[0m \u001b[0mhandle_torch_function\u001b[0m\u001b[0;34m(\u001b[0m\u001b[0mbroadcast_tensors\u001b[0m\u001b[0;34m,\u001b[0m \u001b[0mtensors\u001b[0m\u001b[0;34m,\u001b[0m \u001b[0;34m*\u001b[0m\u001b[0mtensors\u001b[0m\u001b[0;34m)\u001b[0m\u001b[0;34m\u001b[0m\u001b[0;34m\u001b[0m\u001b[0m\n\u001b[0;32m---> 73\u001b[0;31m     \u001b[0;32mreturn\u001b[0m \u001b[0m_VF\u001b[0m\u001b[0;34m.\u001b[0m\u001b[0mbroadcast_tensors\u001b[0m\u001b[0;34m(\u001b[0m\u001b[0mtensors\u001b[0m\u001b[0;34m)\u001b[0m  \u001b[0;31m# type: ignore[attr-defined]\u001b[0m\u001b[0;34m\u001b[0m\u001b[0;34m\u001b[0m\u001b[0m\n\u001b[0m\u001b[1;32m     74\u001b[0m \u001b[0;34m\u001b[0m\u001b[0m\n\u001b[1;32m     75\u001b[0m \u001b[0;34m\u001b[0m\u001b[0m\n",
            "\u001b[0;31mRuntimeError\u001b[0m: The size of tensor a (72) must match the size of tensor b (56) at non-singleton dimension 3"
          ]
        }
      ]
    },
    {
      "cell_type": "code",
      "source": [
        "print(\"noise_pred size:\", noise_pred.size())\n",
        "print(\"noise size:\", noise.size())"
      ],
      "metadata": {
        "colab": {
          "base_uri": "https://localhost:8080/"
        },
        "id": "lNmjkyYhLAAL",
        "outputId": "0af763ea-4aaf-41d6-e69c-9a8070d1fd16"
      },
      "execution_count": null,
      "outputs": [
        {
          "output_type": "stream",
          "name": "stdout",
          "text": [
            "noise_pred size: torch.Size([5, 3, 56, 72])\n",
            "noise size: torch.Size([5, 3, 72, 56])\n"
          ]
        }
      ]
    },
    {
      "cell_type": "code",
      "source": [
        "print(noisy_latent.shape[2:])\n",
        "print(noisy_low_res_image.shape[2:])\n",
        "noisy_latent.shape[2:] != noisy_low_res_image.shape[2:]\n"
      ],
      "metadata": {
        "colab": {
          "base_uri": "https://localhost:8080/"
        },
        "id": "n2y0frgEIhhO",
        "outputId": "d45ab615-f734-47fb-8619-7790e1458b15"
      },
      "execution_count": null,
      "outputs": [
        {
          "output_type": "stream",
          "name": "stdout",
          "text": [
            "torch.Size([72, 56])\n",
            "torch.Size([56, 72])\n"
          ]
        },
        {
          "output_type": "execute_result",
          "data": {
            "text/plain": [
              "True"
            ]
          },
          "metadata": {},
          "execution_count": 110
        }
      ]
    },
    {
      "cell_type": "code",
      "source": [
        "noisy_low_res_image = noisy_low_res_image.permute(0, 1, 3, 2).contiguous()"
      ],
      "metadata": {
        "id": "B9ZwXfQsJBWe"
      },
      "execution_count": null,
      "outputs": []
    },
    {
      "cell_type": "code",
      "source": [
        "print(noisy_latent.shape)\n",
        "print(noisy_low_res_image.shape)"
      ],
      "metadata": {
        "colab": {
          "base_uri": "https://localhost:8080/"
        },
        "id": "-hBXGONoEhk1",
        "outputId": "01213074-a800-4231-deb5-ea7cde28a55d"
      },
      "execution_count": null,
      "outputs": [
        {
          "output_type": "stream",
          "name": "stdout",
          "text": [
            "torch.Size([5, 3, 72, 56])\n",
            "torch.Size([5, 1, 72, 56])\n"
          ]
        }
      ]
    },
    {
      "cell_type": "code",
      "source": [
        "# ### Plotting sampling example\n",
        "\n",
        "# %%\n",
        "# Sampling image during training\n",
        "unet.eval()\n",
        "num_samples = 3\n",
        "validation_batch = first(val_loader)\n",
        "\n",
        "images = validation_batch[\"image\"].to(device)\n",
        "sampling_image = validation_batch[\"low_res_image\"].to(device)[:num_samples]\n",
        "\n",
        "# %%\n",
        "latents = torch.randn((num_samples, 3, 16, 16)).to(device)\n",
        "low_res_noise = torch.randn((num_samples, 1, 16, 16)).to(device)\n",
        "noise_level = 10\n",
        "noise_level = torch.Tensor((noise_level,)).long().to(device)\n",
        "noisy_low_res_image = scheduler.add_noise(\n",
        "    original_samples=sampling_image, noise=low_res_noise, timesteps=torch.Tensor((noise_level,)).long().to(device)\n",
        ")\n",
        "scheduler.set_timesteps(num_inference_steps=1000)\n",
        "for t in tqdm(scheduler.timesteps, ncols=110):\n",
        "    with torch.no_grad():\n",
        "        with autocast(enabled=True):\n",
        "            latent_model_input = torch.cat([latents, noisy_low_res_image], dim=1)\n",
        "            noise_pred = unet(x=latent_model_input, timesteps=torch.Tensor((t,)).to(device), class_labels=noise_level)\n",
        "\n",
        "        # 2. compute previous image: x_t -> x_t-1\n",
        "        latents, _ = scheduler.step(noise_pred, t, latents)\n",
        "\n",
        "with torch.no_grad():\n",
        "    decoded = autoencoderkl.decode_stage_2_outputs(latents / scale_factor)\n",
        "\n",
        "# %%\n",
        "low_res_bicubic = nn.functional.interpolate(sampling_image, (64, 64), mode=\"bicubic\")\n",
        "fig, axs = plt.subplots(num_samples, 3, figsize=(8, 8))\n",
        "axs[0, 0].set_title(\"Original image\")\n",
        "axs[0, 1].set_title(\"Low-resolution Image\")\n",
        "axs[0, 2].set_title(\"Outputted image\")\n",
        "for i in range(0, num_samples):\n",
        "    axs[i, 0].imshow(images[i, 0].cpu(), vmin=0, vmax=1, cmap=\"gray\")\n",
        "    axs[i, 0].axis(\"off\")\n",
        "    axs[i, 1].imshow(low_res_bicubic[i, 0].cpu(), vmin=0, vmax=1, cmap=\"gray\")\n",
        "    axs[i, 1].axis(\"off\")\n",
        "    axs[i, 2].imshow(decoded[i, 0].cpu(), vmin=0, vmax=1, cmap=\"gray\")\n",
        "    axs[i, 2].axis(\"off\")\n",
        "plt.tight_layout()"
      ],
      "metadata": {
        "id": "hmiyqQkPOVXg"
      },
      "execution_count": null,
      "outputs": []
    },
    {
      "cell_type": "code",
      "source": [
        "if directory is None:\n",
        "  shutil.rmtree(root_dir)"
      ],
      "metadata": {
        "id": "CmwmIDwfMl4m"
      },
      "execution_count": null,
      "outputs": []
    }
  ]
}